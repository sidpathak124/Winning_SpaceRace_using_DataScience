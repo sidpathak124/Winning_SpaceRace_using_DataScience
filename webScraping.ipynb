{
    "cells": [
        {
            "cell_type": "markdown",
            "metadata": {},
            "source": "# **Space X  Falcon 9 First Stage Landing Prediction**\n"
        },
        {
            "cell_type": "markdown",
            "metadata": {},
            "source": "## Web scraping Falcon 9 and Falcon Heavy Launches Records from Wikipedia\n"
        },
        {
            "cell_type": "markdown",
            "metadata": {},
            "source": "In this lab, we will be performing web scraping to collect Falcon 9 historical launch records from a Wikipedia page titled `List of Falcon 9 and Falcon Heavy launches`\n\n[https://en.wikipedia.org/wiki/List_of_Falcon\\_9\\_and_Falcon_Heavy_launches](https://en.wikipedia.org/wiki/List_of_Falcon\\_9\\_and_Falcon_Heavy_launches?utm_medium=Exinfluencer&utm_source=Exinfluencer&utm_content=000026UJ&utm_term=10006555&utm_id=NA-SkillsNetwork-Channel-SkillsNetworkCoursesIBMDS0321ENSkillsNetwork26802033-2021-01-01)\n"
        },
        {
            "cell_type": "markdown",
            "metadata": {},
            "source": "![](https://cf-courses-data.s3.us.cloud-object-storage.appdomain.cloud/IBM-DS0321EN-SkillsNetwork/labs/module\\_1\\_L2/images/Falcon9\\_rocket_family.svg)\n"
        },
        {
            "cell_type": "markdown",
            "metadata": {},
            "source": "Falcon 9 first stage will land successfully\n"
        },
        {
            "cell_type": "markdown",
            "metadata": {},
            "source": "![](https://cf-courses-data.s3.us.cloud-object-storage.appdomain.cloud/IBMDeveloperSkillsNetwork-DS0701EN-SkillsNetwork/api/Images/landing\\_1.gif)\n"
        },
        {
            "cell_type": "markdown",
            "metadata": {},
            "source": "Several examples of an unsuccessful landing are shown here:\n"
        },
        {
            "cell_type": "markdown",
            "metadata": {},
            "source": "![](https://cf-courses-data.s3.us.cloud-object-storage.appdomain.cloud/IBMDeveloperSkillsNetwork-DS0701EN-SkillsNetwork/api/Images/crash.gif)\n"
        },
        {
            "cell_type": "markdown",
            "metadata": {},
            "source": "More specifically, the launch records are stored in a HTML table shown below:\n"
        },
        {
            "cell_type": "markdown",
            "metadata": {},
            "source": "![](https://cf-courses-data.s3.us.cloud-object-storage.appdomain.cloud/IBM-DS0321EN-SkillsNetwork/labs/module\\_1\\_L2/images/falcon9-launches-wiki.png)\n"
        },
        {
            "cell_type": "markdown",
            "metadata": {},
            "source": "## Objectives\n\nWeb scrap Falcon 9 launch records with `BeautifulSoup`:\n\n*   Extract a Falcon 9 launch records HTML table from Wikipedia\n*   Parse the table and convert it into a Pandas data frame\n"
        },
        {
            "cell_type": "markdown",
            "metadata": {},
            "source": "First let's import required packages for this lab\n"
        },
        {
            "cell_type": "code",
            "execution_count": 2,
            "metadata": {
                "scrolled": true
            },
            "outputs": [
                {
                    "name": "stdout",
                    "output_type": "stream",
                    "text": "/opt/conda/envs/Python-3.7-OpenCE/lib/python3.7/site-packages/secretstorage/dhcrypto.py:16: CryptographyDeprecationWarning: int_from_bytes is deprecated, use int.from_bytes instead\n  from cryptography.utils import int_from_bytes\n/opt/conda/envs/Python-3.7-OpenCE/lib/python3.7/site-packages/secretstorage/util.py:25: CryptographyDeprecationWarning: int_from_bytes is deprecated, use int.from_bytes instead\n  from cryptography.utils import int_from_bytes\nRequirement already satisfied: beautifulsoup4 in /opt/conda/envs/Python-3.7-OpenCE/lib/python3.7/site-packages (4.9.1)\nRequirement already satisfied: soupsieve>1.2 in /opt/conda/envs/Python-3.7-OpenCE/lib/python3.7/site-packages (from beautifulsoup4) (2.0.1)\n/opt/conda/envs/Python-3.7-OpenCE/lib/python3.7/site-packages/secretstorage/dhcrypto.py:16: CryptographyDeprecationWarning: int_from_bytes is deprecated, use int.from_bytes instead\n  from cryptography.utils import int_from_bytes\n/opt/conda/envs/Python-3.7-OpenCE/lib/python3.7/site-packages/secretstorage/util.py:25: CryptographyDeprecationWarning: int_from_bytes is deprecated, use int.from_bytes instead\n  from cryptography.utils import int_from_bytes\nRequirement already satisfied: requests in /opt/conda/envs/Python-3.7-OpenCE/lib/python3.7/site-packages (2.25.1)\nRequirement already satisfied: urllib3<1.27,>=1.21.1 in /opt/conda/envs/Python-3.7-OpenCE/lib/python3.7/site-packages (from requests) (1.26.6)\nRequirement already satisfied: chardet<5,>=3.0.2 in /opt/conda/envs/Python-3.7-OpenCE/lib/python3.7/site-packages (from requests) (3.0.4)\nRequirement already satisfied: certifi>=2017.4.17 in /opt/conda/envs/Python-3.7-OpenCE/lib/python3.7/site-packages (from requests) (2021.10.8)\nRequirement already satisfied: idna<3,>=2.5 in /opt/conda/envs/Python-3.7-OpenCE/lib/python3.7/site-packages (from requests) (2.8)\n"
                }
            ],
            "source": "!pip3 install beautifulsoup4\n!pip3 install requests"
        },
        {
            "cell_type": "code",
            "execution_count": 3,
            "metadata": {},
            "outputs": [],
            "source": "import sys\n\nimport requests\nfrom bs4 import BeautifulSoup\nimport re\nimport unicodedata\nimport pandas as pd"
        },
        {
            "cell_type": "code",
            "execution_count": 4,
            "metadata": {},
            "outputs": [],
            "source": "def date_time(table_cells):\n    \"\"\"\n    This function returns the data and time from the HTML  table cell\n    Input: the  element of a table data cell extracts extra row\n    \"\"\"\n    return [data_time.strip() for data_time in list(table_cells.strings)][0:2]\n\ndef booster_version(table_cells):\n    \"\"\"\n    This function returns the booster version from the HTML  table cell \n    Input: the  element of a table data cell extracts extra row\n    \"\"\"\n    out=''.join([booster_version for i,booster_version in enumerate( table_cells.strings) if i%2==0][0:-1])\n    return out\n\ndef landing_status(table_cells):\n    \"\"\"\n    This function returns the landing status from the HTML table cell \n    Input: the  element of a table data cell extracts extra row\n    \"\"\"\n    out=[i for i in table_cells.strings][0]\n    return out\n\n\ndef get_mass(table_cells):\n    mass=unicodedata.normalize(\"NFKD\", table_cells.text).strip()\n    if mass:\n        mass.find(\"kg\")\n        new_mass=mass[0:mass.find(\"kg\")+2]\n    else:\n        new_mass=0\n    return new_mass\n\n\ndef extract_column_from_header(row):\n    \"\"\"\n    This function returns the landing status from the HTML table cell \n    Input: the  element of a table data cell extracts extra row\n    \"\"\"\n    if (row.br):\n        row.br.extract()\n    if row.a:\n        row.a.extract()\n    if row.sup:\n        row.sup.extract()\n        \n    colunm_name = ' '.join(row.contents)\n    \n    # Filter the digit and empty names\n    if not(colunm_name.strip().isdigit()):\n        colunm_name = colunm_name.strip()\n        return colunm_name    \n"
        },
        {
            "cell_type": "markdown",
            "metadata": {},
            "source": "To keep the lab tasks consistent, we will scrape the data from a snapshot of the  `List of Falcon 9 and Falcon Heavy launches` Wikipage updated on\n`9th June 2021`\n"
        },
        {
            "cell_type": "code",
            "execution_count": 5,
            "metadata": {},
            "outputs": [],
            "source": "static_url = \"https://en.wikipedia.org/w/index.php?title=List_of_Falcon_9_and_Falcon_Heavy_launches&oldid=1027686922\""
        },
        {
            "cell_type": "markdown",
            "metadata": {},
            "source": "Next, request the HTML page from the above URL and get a `response` object\n"
        },
        {
            "cell_type": "markdown",
            "metadata": {},
            "source": "### TASK 1: Request the Falcon9 Launch Wiki page from its URL\n"
        },
        {
            "cell_type": "markdown",
            "metadata": {},
            "source": "First, let's perform an HTTP GET method to request the Falcon9 Launch HTML page, as an HTTP response.\n"
        },
        {
            "cell_type": "code",
            "execution_count": 6,
            "metadata": {},
            "outputs": [],
            "source": "# use requests.get() method with the provided static_url\nresponse = requests.get(static_url)\n# assign the response to a object"
        },
        {
            "cell_type": "markdown",
            "metadata": {},
            "source": "Create a `BeautifulSoup` object from the HTML `response`\n"
        },
        {
            "cell_type": "code",
            "execution_count": 7,
            "metadata": {},
            "outputs": [],
            "source": "# Use BeautifulSoup() to create a BeautifulSoup object from a response text content\nsoup = BeautifulSoup(response.text)"
        },
        {
            "cell_type": "markdown",
            "metadata": {},
            "source": "Print the page title to verify if the `BeautifulSoup` object was created properly\n"
        },
        {
            "cell_type": "code",
            "execution_count": 8,
            "metadata": {},
            "outputs": [
                {
                    "data": {
                        "text/plain": "<title>List of Falcon 9 and Falcon Heavy launches - Wikipedia</title>"
                    },
                    "execution_count": 8,
                    "metadata": {},
                    "output_type": "execute_result"
                }
            ],
            "source": "# Use soup.title attribute\nsoup.title"
        },
        {
            "cell_type": "markdown",
            "metadata": {},
            "source": "### TASK 2: Extract all column/variable names from the HTML table header\n"
        },
        {
            "cell_type": "markdown",
            "metadata": {},
            "source": "Next, we want to collect all relevant column names from the HTML table header\n"
        },
        {
            "cell_type": "markdown",
            "metadata": {},
            "source": "Let's try to find all tables on the wiki page first. If you need to refresh your memory about `BeautifulSoup`, please check the external reference link towards the end of this lab\n"
        },
        {
            "cell_type": "code",
            "execution_count": 9,
            "metadata": {},
            "outputs": [],
            "source": "# Use the find_all function in the BeautifulSoup object, with element type `table`\n# Assign the result to a list called `html_tables`\nhtml_tables = list(soup.find_all('table'))"
        },
        {
            "cell_type": "markdown",
            "metadata": {},
            "source": "Starting from the third table is our target table contains the actual launch records.\n"
        },
        {
            "cell_type": "code",
            "execution_count": null,
            "metadata": {},
            "outputs": [],
            "source": "# Let's print the third table and check its content\nfirst_launch_table = html_tables[2]"
        },
        {
            "cell_type": "markdown",
            "metadata": {},
            "source": "The columns names are embedded in the table header elements `<th>` :\n"
        },
        {
            "cell_type": "markdown",
            "metadata": {},
            "source": "Next, we just need to iterate through the `<th>` elements and apply the provided `extract_column_from_header()` to extract column name one by one\n"
        },
        {
            "cell_type": "code",
            "execution_count": 11,
            "metadata": {},
            "outputs": [],
            "source": "column_names = []\n\n# Apply find_all() function with `th` element on first_launch_table\n# Iterate each th element and apply the provided extract_column_from_header() to get a column name\n# Append the Non-empty column name (`if name is not None and len(name) > 0`) into a list called column_names\n\n\nth_elements = first_launch_table.find_all('th')\nfor th in th_elements:\n    try:\n        col_name = extract_column_from_header(th)\n        if col_name is not None and len(col_name) > 0:\n            column_names.append(col_name)\n    except:\n        pass"
        },
        {
            "cell_type": "markdown",
            "metadata": {},
            "source": "Check the extracted column names\n"
        },
        {
            "cell_type": "code",
            "execution_count": 12,
            "metadata": {},
            "outputs": [
                {
                    "name": "stdout",
                    "output_type": "stream",
                    "text": "['Flight No.', 'Date and time ( )', 'Launch site', 'Payload', 'Payload mass', 'Orbit', 'Customer', 'Launch outcome']\n"
                }
            ],
            "source": "print(column_names)"
        },
        {
            "cell_type": "markdown",
            "metadata": {},
            "source": "## TASK 3: Create a data frame by parsing the launch HTML tables\n"
        },
        {
            "cell_type": "markdown",
            "metadata": {},
            "source": "We will create an empty dictionary with keys from the extracted column names in the previous task. Later, this dictionary will be converted into a Pandas dataframe\n"
        },
        {
            "cell_type": "code",
            "execution_count": 41,
            "metadata": {},
            "outputs": [],
            "source": "launch_dict= dict.fromkeys(column_names)\n\n# Remove an irrelvant column\ndel launch_dict['Date and time ( )']\n\n# Let's initial the launch_dict with each value to be an empty list\nlaunch_dict['Flight No.'] = []\nlaunch_dict['Launch site'] = []\nlaunch_dict['Payload'] = []\nlaunch_dict['Payload mass'] = []\nlaunch_dict['Orbit'] = []\nlaunch_dict['Customer'] = []\nlaunch_dict['Launch outcome'] = []\n# Added some new columns\nlaunch_dict['Version Booster']=[]\nlaunch_dict['Booster landing']=[]\nlaunch_dict['Date']=[]\nlaunch_dict['Time']=[]"
        },
        {
            "cell_type": "code",
            "execution_count": 42,
            "metadata": {},
            "outputs": [
                {
                    "data": {
                        "text/plain": "{'Flight No.': [],\n 'Launch site': [],\n 'Payload': [],\n 'Payload mass': [],\n 'Orbit': [],\n 'Customer': [],\n 'Launch outcome': [],\n 'Version Booster': [],\n 'Booster landing': [],\n 'Date': [],\n 'Time': []}"
                    },
                    "execution_count": 42,
                    "metadata": {},
                    "output_type": "execute_result"
                }
            ],
            "source": "launch_dict"
        },
        {
            "cell_type": "markdown",
            "metadata": {},
            "source": "Next, we just need to fill up the `launch_dict` with launch records extracted from table rows.\n"
        },
        {
            "cell_type": "markdown",
            "metadata": {},
            "source": "Usually, HTML tables in Wiki pages are likely to contain unexpected annotations and other types of noises, such as reference links `B0004.1[8]`, missing values `N/A [e]`, inconsistent formatting, etc.\n"
        },
        {
            "cell_type": "markdown",
            "metadata": {},
            "source": "To simplify the parsing process, we have provided an incomplete code snippet below to help you to fill up the `launch_dict`. Please complete the following code snippet with TODOs or you can choose to write your own logic to parse all launch tables:\n"
        },
        {
            "cell_type": "code",
            "execution_count": 43,
            "metadata": {},
            "outputs": [
                {
                    "name": "stdout",
                    "output_type": "stream",
                    "text": "1\n4 June 2010\n18:45\nF9 v1.0B0003.1\nCCAFS\nDragon Spacecraft Qualification Unit\nDragon Spacecraft Qualification Unit\nLEO\nSpaceX\nSuccess\n\nFailure\n2\n8 December 2010\n15:43\nF9 v1.0B0004.1\nCCAFS\nDragon\nDragon\nLEO\nNASA (COTS)\nNRO\nSuccess\nFailure\n3\n22 May 2012\n07:44\nF9 v1.0B0005.1\nCCAFS\nDragon\nDragon\nLEO\nNASA (COTS)\nSuccess\nNo attempt\n\n4\n8 October 2012\n00:35\nF9 v1.0B0006.1\nCCAFS\nSpaceX CRS-1\nSpaceX CRS-1\nLEO\nNASA (CRS)\nSuccess\n\nNo attempt\n5\n1 March 2013\n15:10\nF9 v1.0B0007.1\nCCAFS\nSpaceX CRS-2\nSpaceX CRS-2\nLEO\nNASA (CRS)\nSuccess\n\nNo attempt\n\n6\n29 September 2013\n16:00\nF9 v1.1B1003\nVAFB\nCASSIOPE\nCASSIOPE\nPolar orbit\nMDA\nSuccess\nUncontrolled\n7\n3 December 2013\n22:41\nF9 v1.1\nCCAFS\nSES-8\nSES-8\nGTO\nSES\nSuccess\nNo attempt\n8\n6 January 2014\n22:06\nF9 v1.1\nCCAFS\nThaicom 6\nThaicom 6\nGTO\nThaicom\nSuccess\nNo attempt\n9\n18 April 2014\n19:25\nF9 v1.1\nCape Canaveral\nSpaceX CRS-3\nSpaceX CRS-3\nLEO\nNASA (CRS)\nSuccess\n\nControlled\n10\n14 July 2014\n15:15\nF9 v1.1\nCape Canaveral\nOrbcomm-OG2\nOrbcomm-OG2\nLEO\nOrbcomm\nSuccess\nControlled\n11\n5 August 2014\n08:00\nF9 v1.1\nCape Canaveral\nAsiaSat 8\nAsiaSat 8\nGTO\nAsiaSat\nSuccess\nNo attempt\n12\n7 September 2014\n05:00\nF9 v1.1\nCape Canaveral\nAsiaSat 6\nAsiaSat 6\nGTO\nAsiaSat\nSuccess\nNo attempt\n\n13\n21 September 2014\n05:52\nF9 v1.1\nCape Canaveral\nSpaceX CRS-4\nSpaceX CRS-4\nLEO\nNASA (CRS)\nSuccess\nUncontrolled\n14\n10 January 2015\n09:47\nF9 v1.1\nCape Canaveral\nSpaceX CRS-5\nSpaceX CRS-5\nLEO\nNASA (CRS)\nSuccess\nFailure \n15\n11 February 2015\n23:03\nF9 v1.1\nCape Canaveral\nDSCOVR\nDSCOVR\nHEO\nUSAF\nNASA\nNOAA\nSuccess\n\nControlled\n16\n2 March 2015\n03:50\nF9 v1.1\nCape Canaveral\nABS-3A\nABS-3A\nGTO\nABS\nEutelsat\nSuccess\n\nNo attempt\n17\n14 April 2015\n20:10\nF9 v1.1\nCape Canaveral\nSpaceX CRS-6\nSpaceX CRS-6\nLEO\nNASA (CRS)\nSuccess\n\nFailure\n18\n27 April 2015\n23:03\nF9 v1.1\nCape Canaveral\nT\u00fcrkmen\u00c4lem 52\u00b0E / MonacoSAT\nT\u00fcrkmen\u00c4lem 52\u00b0E / MonacoSAT\nGTO\nTurkmenistan NationalSpace Agency[88]\nSuccess\n\nNo attempt\n19\n28 June 2015\n14:21\nF9 v1.1\nCape Canaveral\nSpaceX CRS-7\nSpaceX CRS-7\nLEO\nNASA (CRS)\nFailure\nPrecluded\n20\n22 December 2015\n01:29\nF9 FT\nCape Canaveral\nOrbcomm-OG2\nOrbcomm-OG2\nLEO\nOrbcomm\nSuccess\n\nSuccess\n21\n17 January 2016\n18:42\nF9 v1.1\nVAFB\nJason-3\nJason-3\nLEO\nNASA (LSP)\nNOAA\nCNES\nSuccess\n\nFailure\n22\n4 March 2016\n23:35\nF9 FT\nCape Canaveral\nSES-9\nSES-9\nGTO\nSES\nSuccess\n\nFailure\n23\n8 April 2016\n20:43\nF9 FT\nCape Canaveral\nSpaceX CRS-8\nSpaceX CRS-8\nLEO\nNASA (CRS)\nSuccess\nSuccess\n24\n6 May 2016\n05:21\nF9 FT\nCape Canaveral\nJCSAT-14\nJCSAT-14\nGTO\nSKY Perfect JSAT Group\nSuccess\n\nSuccess\n25\n27 May 2016\n21:39\nF9 FT\nCape Canaveral\nThaicom 8\nThaicom 8\nGTO\nThaicom\nSuccess\n\nSuccess\n26\n15 June 2016\n14:29\nF9 FT\nCape Canaveral\nABS-2A\nABS-2A\nGTO\nABS\nEutelsat\nSuccess\n\nFailure\n27\n18 July 2016\n04:45\nF9 FT\nCape Canaveral\nSpaceX CRS-9\nSpaceX CRS-9\nLEO\nNASA (CRS)\nSuccess\n\nSuccess\n28\n14 August 2016\n05:26\nF9 FT\nCape Canaveral\nJCSAT-16\nJCSAT-16\nGTO\nSKY Perfect JSAT Group\nSuccess\n\nSuccess\n29\n14 January 2017\n17:54\nF9 FT\nVAFB\nIridium NEXT\nIridium NEXT\nPolar\nIridium Communications\nSuccess\n\nSuccess\n30\n19 February 2017\n14:39\nF9 FT\nKSC\nSpaceX CRS-10\nSpaceX CRS-10\nLEO\nNASA (CRS)\nSuccess\n\nSuccess\n31\n16 March 2017\n06:00\nF9 FT\nKSC\nEchoStar 23\nEchoStar 23\nGTO\nEchoStar\nSuccess\n\nNo attempt\n32\n30 March 2017\n22:27\nF9 FT\u267a\nKSC\nSES-10\nSES-10\nGTO\nSES\nSuccess\nSuccess\n33\n1 May 2017\n11:15\nF9 FT\nKSC\nNROL-76\nNROL-76\nLEO\nNRO\nSuccess\n\nSuccess\n34\n15 May 2017\n23:21\nF9 FT\nKSC\nInmarsat-5 F4\nInmarsat-5 F4\nGTO\nInmarsat\nSuccess\n\nNo attempt\n35\n3 June 2017\n21:07\nF9 FT\nKSC\nSpaceX CRS-11\nSpaceX CRS-11\nLEO\nNASA (CRS)\nSuccess\n\nSuccess\n36\n23 June 2017\n19:10\nF9 FTB1029.2\nKSC\nBulgariaSat-1\nBulgariaSat-1\nGTO\nBulsatcom\nSuccess\n\nSuccess\n37\n25 June 2017\n20:25\nF9 FT\nVAFB\nIridium NEXT\nIridium NEXT\nLEO\nIridium Communications\nSuccess\n\nSuccess\n38\n5 July 2017\n23:38\nF9 FT\nKSC\nIntelsat 35e\nIntelsat 35e\nGTO\nIntelsat\nSuccess\n\nNo attempt\n39\n14 August 2017\n16:31\nF9 B4\nKSC\nSpaceX CRS-12\nSpaceX CRS-12\nLEO\nNASA (CRS)\nSuccess\n\nSuccess\n40\n24 August 2017\n18:51\nF9 FT\nVAFB\nFormosat-5\nFormosat-5\nSSO\nNSPO\nSuccess\n\nSuccess\n41\n7 September 2017\n14:00\nF9 B4\nKSC\nBoeing X-37B\nBoeing X-37B\nLEO\nUSAF\nSuccess\n\nSuccess\n42\n9 October 2017\n12:37\nF9 B4\nVAFB\nIridium NEXT\nIridium NEXT\nPolar\nIridium Communications\nSuccess\n\nSuccess\n43\n11 October 2017\n22:53:00\nF9 FTB1031.2\nKSC\nSES-11\nSES-11\nGTO\nSES S.A.\nEchoStar\nSuccess\n\nSuccess\n44\n30 October 2017\n19:34\nF9 B4\nKSC\nKoreasat 5A\nKoreasat 5A\nGTO\nKT Corporation\nSuccess\n\nSuccess\n45\n15 December 2017\n15:36\nF9 FTB1035.2\nCape Canaveral\nSpaceX CRS-13\nSpaceX CRS-13\nLEO\nNASA (CRS)\nSuccess\n\nSuccess\n46\n23 December 2017\n01:27\nF9 FTB1036.2\nVAFB\nIridium NEXT\nIridium NEXT\nPolar\nIridium Communications\nSuccess\nControlled\n47\n8 January 2018\n01:00\nF9 B4\nCCAFS\nZuma\nZuma\nLEO\nNorthrop Grumman [f][238]\nSuccess\nSuccess\n48\n31 January 2018\n21:25\nF9 FTB1032.2\nCCAFS\nGovSat-1\nGovSat-1\nGTO\nSES\nSuccess\nControlled\n49\n22 February 2018\n14:17\nF9 FTB1038.2\nVAFB\nPaz\nPaz\nSSO\nHisdesat\nexactEarth\nSpaceX\nSuccess\nNo attempt\n50\n6 March 2018\n05:33\nF9 B4\nCCAFS\nHispasat 30W-6\nHispasat 30W-6\nGTO\nHispasat[277]\nNovaWurks\nSuccess\nNo attempt\n51\n30 March 2018\n14:14\nF9 B4B1041.2\nVAFB\nIridium NEXT\nIridium NEXT\nPolar\nIridium Communications\nSuccess\nNo attempt\n52\n2 April 2018\n20:30\nF9 B4B1039.2\nCCAFS\nSpaceX CRS-14\nSpaceX CRS-14\nLEO\nNASA (CRS)\nSuccess\nNo attempt\n53\n18 April 2018\n22:51\nF9 B4\nCCAFS\nTransiting Exoplanet Survey Satellite\nTransiting Exoplanet Survey Satellite\nHEO\nNASA (LSP)\nSuccess\nSuccess\n54\n11 May 2018\n20:14\nF9 B5B1046.1\nKSC\nBangabandhu-1\nBangabandhu-1\nGTO\nThales-Alenia / BTRC\nSuccess\nSuccess\n55\n22 May 2018\n19:47\nF9 B4B1043.2\nVAFB\nIridium NEXT\nIridium NEXT\nPolar\nIridium Communications\nGFZ\u00a0\u2022 NASA\nSuccess\nNo attempt\n56\n4 June 2018\n04:45\nF9 B4B1040.2\nCCAFS\nSES-12\nSES-12\nGTO\nSES\nSuccess\nNo attempt\n57\n29 June 2018\n09:42\nF9 B4B1045.2\nCCAFS\nSpaceX CRS-15\nSpaceX CRS-15\nLEO\nNASA (CRS)\nSuccess\nNo attempt\n58\n22 July 2018\n05:50\nF9 B5\nCCAFS\nTelstar 19V\nTelstar 19V\nGTO\nTelesat\nSuccess\nSuccess\n59\n25 July 2018\n11:39\nF9 B5B1048\nVAFB\nIridium NEXT\nIridium NEXT\nPolar\nIridium Communications\nSuccess\nSuccess\n60\n7 August 2018\n05:18\nF9 B5B1046.2\nCCAFS\nMerah Putih\nMerah Putih\nGTO\nTelkom Indonesia\nSuccess\nSuccess\n61\n10 September 2018\n04:45\nF9 B5\nCCAFS\nTelstar 18V\nTelstar 18V\nGTO\nTelesat\nSuccess\nSuccess\n62\n8 October 2018\n02:22\nF9 B5B1048.2\nVAFB\nSAOCOM 1A\nSAOCOM 1A\nSSO\nCONAE\nSuccess\nSuccess\n63\n15 November 2018\n20:46\nF9 B5B1047.2\nKSC\nEs'hail 2\nEs'hail 2\nGTO\nEs'hailSat\nSuccess\nSuccess\n64\n3 December 2018\n18:34:05\nF9 B5B1046.3\nVAFB\nSSO-A\nSSO-A\nSSO\nSpaceflight Industries\nSuccess\nSuccess\n65\n5 December 2018\n18:16\nF9 B5\nCCAFS\nSpaceX CRS-16\nSpaceX CRS-16\nLEO\nNASA (CRS)\nSuccess\n\nFailure\n66\n23 December 2018\n13:51\nF9 B5\nCCAFS\nGPS III\nGPS III\nMEO\nUSAF\nSuccess\nNo attempt\n67\n11 January 2019\n15:31\nF9 B5B1049.2\nVAFB\nIridium NEXT\nIridium NEXT\nPolar\nIridium Communications\nSuccess\n\nSuccess\n68\n22 February 2019\n01:45\nF9 B5B1048.3\nCCAFS\nNusantara Satu\nNusantara Satu\nGTO\nPSN\nSpaceIL / IAI\nAir Force Research\nSuccess\n\nSuccess\n69\n2 March 2019\n07:49\nF9 B5[268]\nKSC\nCrew Dragon Demo-1\nCrew Dragon Demo-1\nLEO\nNASA (CCD)\nSuccess\n\nSuccess\n70\n4 May 2019\n06:48\nF9 B5\nCCAFS\nSpaceX CRS-17\nSpaceX CRS-17\nLEO\nNASA (CRS)\nSuccess\n\nSuccess\n71\n24 May 2019\n02:30\nF9 B5B1049.3\nCCAFS\nStarlink\nStarlink\nLEO\nSpaceX\nSuccess\n\nSuccess\n72\n12 June 2019\n14:17\nF9 B5B1051.2\nVAFB\nRADARSAT Constellation\nRADARSAT Constellation\nSSO\nCanadian Space Agency (CSA)\nSuccess\n\nSuccess\n73\n25 July 2019\n22:01\nF9 B5B1056.2\nCCAFS\nSpaceX CRS-18\nSpaceX CRS-18\nLEO\nNASA (CRS)\nSuccess\n\nSuccess\n74\n6 August 2019\n23:23\nF9 B5B1047.3\nCCAFS\nAMOS-17\nAMOS-17\nGTO\nSpacecom\nSuccess\n\nNo attempt\n75\n11 November 2019\n14:56\nF9 B5\nCCAFS\nStarlink\nStarlink\nLEO\nSpaceX\nSuccess\n\nSuccess\n76\n5 December 2019\n17:29\nF9 B5\nCCAFS\nSpaceX CRS-19\nSpaceX CRS-19\nLEO\nNASA (CRS)\nSuccess\n\nSuccess\n77\n17 December 2019\n00:10\nF9 B5B1056.3\nCCAFS\nJCSat-18\nJCSat-18\nGTO\nSky Perfect JSATKacific 1\nSuccess\n\nSuccess\n78\n7 January 2020\n02:19:21\nF9 B5\nCCAFS\nStarlink\nStarlink\nLEO\nSpaceX\nSuccess\n\nSuccess\n79\n19 January 2020\n15:30\nF9 B5\nKSC\nCrew Dragon in-flight abort test\nCrew Dragon in-flight abort test\nSub-orbital\nNASA (CTS)[497]\nSuccess\n\nNo attempt\n\n80\n29 January 2020\n14:07\nF9 B5\nCCAFS\nStarlink\nStarlink\nLEO\nSpaceX\nSuccess\n\nSuccess\n81\n17 February 2020\n15:05\nF9 B5\nCCAFS\nStarlink\nStarlink\nLEO\nSpaceX\nSuccess\n\nFailure\n82\n7 March 2020\n04:50\nF9 B5\nCCAFS\nSpaceX CRS-20\nSpaceX CRS-20\nLEO\nNASA (CRS)\nSuccess\n\nSuccess\n83\n18 March 2020\n12:16\nF9 B5\nKSC\nStarlink\nStarlink\nLEO\nSpaceX\nSuccess\n\nFailure\n84\n22 April 2020\n19:30\nF9 B5\nKSC\nStarlink\nStarlink\nLEO\nSpaceX\nSuccess\n\nSuccess\n85\n30 May 2020\n19:22\nF9 B5\nKSC\nCrew Dragon Demo-2\nCrew Dragon Demo-2\nLEO\nNASA (CCDev)\nSuccess\n\nSuccess\n86\n4 June 2020\n01:25\nF9 B5\nCCAFS\nStarlink\nStarlink\nLEO\nSpaceX\nSuccess\n\nSuccess\n87\n13 June 2020\n09:21\nF9 B5\nCCAFS\nStarlink\nStarlink\nLEO\nSpaceXPlanet Labs\nSuccess\n\nSuccess\n88\n30 June 2020\n20:10:46\nF9 B5\nCCAFS\nGPS III\nGPS III\nMEO\nU.S. Space Force[530]\nSuccess\n\nSuccess\n89\n20 July 2020\n21:30\nF9 B5B1058.2\nCCAFS\nANASIS-II\nANASIS-II\nGTO\nRepublic of Korea Army\nSuccess\n\nSuccess\n90\n7 August 2020\n05:12\nF9 B5\nKSC\nStarlink\nStarlink\nLEO\nSpaceXSpaceflight Industries (BlackSky)\nSuccess\n\nSuccess\n91\n18 August 2020\n14:31\nF9 B5B1049.6\nCCAFS\nStarlink\nStarlink\nLEO\nSpaceXPlanet Labs\nSuccess\n\nSuccess\n92\n30 August 2020\n23:18\nF9 B5\nCCAFS\nSAOCOM 1B\nSAOCOM 1B\nSSO\nCONAEPlanetIQTyvak\nSuccess\n\nSuccess\n93\n3 September 2020\n12:46:14\nF9 B5B1060.2\nKSC\nStarlink\nStarlink\nLEO\nSpaceX\nSuccess\n\nSuccess\n94\n6 October 2020\n11:29:34\nF9 B5B1058.3\nKSC\nStarlink\nStarlink\nLEO\nSpaceX\nSuccess\n\nSuccess\n95\n18 October 2020\n12:25:57\nF9 B5B1051.6\nKSC\nStarlink\nStarlink\nLEO\nSpaceX\nSuccess\n\nSuccess\n96\n24 October 2020\n15:31:34\nF9 B5\nCCAFS\nStarlink\nStarlink\nLEO\nSpaceX\nSuccess\n\nSuccess\n97\n5 November 2020\n23:24:23\nF9 B5\nCCAFS\nGPS III\nGPS III\nMEO\nUSSF\nSuccess\n\nSuccess\n98\n16 November 2020\n00:27\nF9 B5\nKSC\nCrew-1\nCrew-1\nLEO\nNASA (CCP)[497]\nSuccess\n\nSuccess\n99\n21 November 2020\n17:17:08\nF9 B5\nVAFB\nSentinel-6 Michael Freilich (Jason-CS A)\nSentinel-6 Michael Freilich (Jason-CS A)\nLEO\nNASA / NOAA / ESA / EUMETSAT\nSuccess\n\nSuccess\n100\n25 November 2020\n02:13\nF9 B5 \u267a\nCCAFS\nStarlink\nStarlink\nLEO\nSpaceX\nSuccess\n\nSuccess\n101\n6 December 2020\n16:17:08\nF9 B5 \u267a\nKSC\nSpaceX CRS-21\nSpaceX CRS-21\nLEO\nNASA (CRS)\nSuccess\n\nSuccess\n102\n13 December 2020\n17:30:00\nF9 B5 \u267a\nCCSFS\nSXM-7\nSXM-7\nGTO\nSirius XM\nSuccess\n\nSuccess\n103\n19 December 2020\n14:00:00\nF9 B5 \u267a\nKSC\nNROL-108\nNROL-108\nLEO\nNRO\nSuccess\n\nSuccess\n104\n8 January 2021\n02:15\nF9 B5\nCCSFS\nT\u00fcrksat 5A\nT\u00fcrksat 5A\nGTO\nT\u00fcrksat\nSuccess\n\nSuccess\n105\n20 January 2021\n13:02\nF9 B5B1051.8\nKSC\nStarlink\nStarlink\nLEO\nSpaceX\nSuccess\n\nSuccess\n106\n24 January 2021\n15:00\nF9 B5B1058.5\nCCSFS\nTransporter-1\nTransporter-1\nSSO\nVarious\nSuccess\n\nSuccess\n107\n4 February 2021\n06:19\nF9 B5 \u267a\nCCSFS\nStarlink\nStarlink\nLEO\nSpaceX\nSuccess\n\nSuccess\n108\n16 February 2021\n03:59:37\nF9 B5 \u267a\nCCSFS\nStarlink\nStarlink\nLEO\nSpaceX\nSuccess\n\nFailure\n109\n4 March 2021\n08:24\nF9 B5 \u267a\nKSC\nStarlink\nStarlink\nLEO\nSpaceX\nSuccess\n\nSuccess\n110\n11 March 2021\n08:13:29\nF9 B5 \u267a\nCCSFS\nStarlink\nStarlink\nLEO\nSpaceX\nSuccess\n\nSuccess\n111\n14 March 2021\n10:01\nF9 B5 \u267a\nKSC\nStarlink\nStarlink\nLEO\nSpaceX\nSuccess\n\nSuccess\n112\n24 March 2021\n08:28\nF9 B5B1060.6\nCCSFS\nStarlink\nStarlink\nLEO\nSpaceX\nSuccess\n\nSuccess\n113\n7 April 2021\n16:34\nF9 B5 \u267a\nCCSFS\nStarlink\nStarlink\nLEO\nSpaceX\nSuccess\n\nSuccess\n114\n23 April 2021\n9:49\nF9 B5B1061.2\nKSC\nCrew-2\nCrew-2\nLEO\nNASA (CTS)[497]\nSuccess\n\nSuccess\n115\n29 April 2021\n03:44\nF9 B5B1060.7\nCCSFS\nStarlink\nStarlink\nLEO\nSpaceX\nSuccess\n\nSuccess\n116\n4 May 2021\n19:01\nF9 B5B1049.9\nKSC\nStarlink\nStarlink\nLEO\nSpaceX\nSuccess\n\nSuccess\n117\n9 May 2021\n06:42\nF9 B5B1051.10\nCCSFS\nStarlink\nStarlink\nLEO\nSpaceX\nSuccess\n\nSuccess\n118\n15 May 2021\n22:56\nF9 B5B1058.8\nKSC\nStarlink\nStarlink\nLEO\nSpaceX Capella Space and Tyvak\nSuccess\n\nSuccess\n119\n26 May 2021\n18:59\nF9 B5B1063.2\nCCSFS\nStarlink\nStarlink\nLEO\nSpaceX\nSuccess\n\nSuccess\n120\n3 June 2021\n17:29\nF9 B5B1067.1\nKSC\nSpaceX CRS-22\nSpaceX CRS-22\nLEO\nNASA (CRS)\nSuccess\n\nSuccess\n121\n6 June 2021\n04:26\nF9 B5\nCCSFS\nSXM-8\nSXM-8\nGTO\nSirius XM\nSuccess\n\nSuccess\n"
                }
            ],
            "source": "extracted_row = 0\n#Extract each table \nfor table_number,table in enumerate(soup.find_all('table',\"wikitable plainrowheaders collapsible\")):\n   # get table row \n    for rows in table.find_all(\"tr\"):\n        #check to see if first table heading is as number corresponding to launch a number \n        if rows.th:\n            if rows.th.string:\n                flight_number=rows.th.string.strip()\n                flag=flight_number.isdigit()\n        else:\n            flag=False\n        #get table element \n        row=rows.find_all('td')\n        #if it is number save cells in a dictonary \n        if flag:\n            extracted_row += 1\n            # Flight Number value\n            # TODO: Append the flight_number into launch_dict with key `Flight No.`\n            launch_dict['Flight No.'].append(flight_number)\n            print(flight_number)\n            datatimelist=date_time(row[0])\n            \n            # Date value\n            # TODO: Append the date into launch_dict with key `Date`\n            date = datatimelist[0].strip(',')\n            launch_dict['Date'].append(date)\n            print(date)\n            \n            # Time value\n            # TODO: Append the time into launch_dict with key `Time`\n            time = datatimelist[1]\n            launch_dict['Time'].append(time)\n            print(time)\n              \n            # Booster version\n            # TODO: Append the bv into launch_dict with key `Version Booster`\n            bv=booster_version(row[1])\n            if not(bv):\n                bv=row[1].a.string\n            launch_dict['Version Booster'].append(bv)\n            print(bv)\n            \n            # Launch Site\n            # TODO: Append the bv into launch_dict with key `Launch Site`\n            launch_site = row[2].a.string\n            launch_dict['Launch site'].append(launch_site)\n            print(launch_site)\n            \n            # Payload\n            # TODO: Append the payload into launch_dict with key `Payload`\n            payload = row[3].a.string\n            launch_dict['Payload'].append(payload)\n            print(payload)\n            \n            # Payload Mass\n            # TODO: Append the payload_mass into launch_dict with key `Payload mass`\n            payload_mass = get_mass(row[4])\n            launch_dict['Payload mass'].append(payload_mass)\n            print(payload)\n            \n            # Orbit\n            # TODO: Append the orbit into launch_dict with key `Orbit`\n            orbit = row[5].a.string\n            launch_dict['Orbit'].append(orbit)\n            print(orbit)\n            \n            # Customer\n            # TODO: Append the customer into launch_dict with key `Customer`\n            customer = row[6].text.strip()\n            launch_dict['Customer'].append(customer)\n            print(customer)\n            \n            # Launch outcome\n            # TODO: Append the launch_outcome into launch_dict with key `Launch outcome`\n            launch_outcome = list(row[7].strings)[0]\n            launch_dict['Launch outcome'].append(launch_outcome)\n            print(launch_outcome)\n            \n            # Booster landing\n            # TODO: Append the launch_outcome into launch_dict with key `Booster landing`\n            booster_landing = landing_status(row[8])\n            launch_dict['Booster landing'].append(booster_landing)\n            print(booster_landing)\n            "
        },
        {
            "cell_type": "markdown",
            "metadata": {},
            "source": "After you have fill in the parsed launch record values into `launch_dict`, you can create a dataframe from it.\n"
        },
        {
            "cell_type": "code",
            "execution_count": 44,
            "metadata": {},
            "outputs": [
                {
                    "name": "stdout",
                    "output_type": "stream",
                    "text": "Flight No.:     121\nLaunch site:    121\nPayload:        121\nPayload mass:   121\nOrbit:          121\nCustomer:       121\nLaunch outcome: 121\nVersion Booster:121\nBooster landing:121\nDate:           121\nTime:           121\n"
                }
            ],
            "source": "for key in list(launch_dict.keys()):\n    \n    spacing = 15 - len(key)\n    output = key + ':' + ' '*spacing + str(len(launch_dict[key]))\n    print(output)"
        },
        {
            "cell_type": "code",
            "execution_count": 45,
            "metadata": {},
            "outputs": [
                {
                    "data": {
                        "text/html": "<div>\n<style scoped>\n    .dataframe tbody tr th:only-of-type {\n        vertical-align: middle;\n    }\n\n    .dataframe tbody tr th {\n        vertical-align: top;\n    }\n\n    .dataframe thead th {\n        text-align: right;\n    }\n</style>\n<table border=\"1\" class=\"dataframe\">\n  <thead>\n    <tr style=\"text-align: right;\">\n      <th></th>\n      <th>Flight No.</th>\n      <th>Launch site</th>\n      <th>Payload</th>\n      <th>Payload mass</th>\n      <th>Orbit</th>\n      <th>Customer</th>\n      <th>Launch outcome</th>\n      <th>Version Booster</th>\n      <th>Booster landing</th>\n      <th>Date</th>\n      <th>Time</th>\n    </tr>\n  </thead>\n  <tbody>\n    <tr>\n      <th>0</th>\n      <td>1</td>\n      <td>CCAFS</td>\n      <td>Dragon Spacecraft Qualification Unit</td>\n      <td>0</td>\n      <td>LEO</td>\n      <td>SpaceX</td>\n      <td>Success\\n</td>\n      <td>F9 v1.0B0003.1</td>\n      <td>Failure</td>\n      <td>4 June 2010</td>\n      <td>18:45</td>\n    </tr>\n    <tr>\n      <th>1</th>\n      <td>2</td>\n      <td>CCAFS</td>\n      <td>Dragon</td>\n      <td>0</td>\n      <td>LEO</td>\n      <td>NASA (COTS)\\nNRO</td>\n      <td>Success</td>\n      <td>F9 v1.0B0004.1</td>\n      <td>Failure</td>\n      <td>8 December 2010</td>\n      <td>15:43</td>\n    </tr>\n    <tr>\n      <th>2</th>\n      <td>3</td>\n      <td>CCAFS</td>\n      <td>Dragon</td>\n      <td>525 kg</td>\n      <td>LEO</td>\n      <td>NASA (COTS)</td>\n      <td>Success</td>\n      <td>F9 v1.0B0005.1</td>\n      <td>No attempt\\n</td>\n      <td>22 May 2012</td>\n      <td>07:44</td>\n    </tr>\n    <tr>\n      <th>3</th>\n      <td>4</td>\n      <td>CCAFS</td>\n      <td>SpaceX CRS-1</td>\n      <td>4,700 kg</td>\n      <td>LEO</td>\n      <td>NASA (CRS)</td>\n      <td>Success\\n</td>\n      <td>F9 v1.0B0006.1</td>\n      <td>No attempt</td>\n      <td>8 October 2012</td>\n      <td>00:35</td>\n    </tr>\n    <tr>\n      <th>4</th>\n      <td>5</td>\n      <td>CCAFS</td>\n      <td>SpaceX CRS-2</td>\n      <td>4,877 kg</td>\n      <td>LEO</td>\n      <td>NASA (CRS)</td>\n      <td>Success\\n</td>\n      <td>F9 v1.0B0007.1</td>\n      <td>No attempt\\n</td>\n      <td>1 March 2013</td>\n      <td>15:10</td>\n    </tr>\n    <tr>\n      <th>...</th>\n      <td>...</td>\n      <td>...</td>\n      <td>...</td>\n      <td>...</td>\n      <td>...</td>\n      <td>...</td>\n      <td>...</td>\n      <td>...</td>\n      <td>...</td>\n      <td>...</td>\n      <td>...</td>\n    </tr>\n    <tr>\n      <th>116</th>\n      <td>117</td>\n      <td>CCSFS</td>\n      <td>Starlink</td>\n      <td>15,600 kg</td>\n      <td>LEO</td>\n      <td>SpaceX</td>\n      <td>Success\\n</td>\n      <td>F9 B5B1051.10</td>\n      <td>Success</td>\n      <td>9 May 2021</td>\n      <td>06:42</td>\n    </tr>\n    <tr>\n      <th>117</th>\n      <td>118</td>\n      <td>KSC</td>\n      <td>Starlink</td>\n      <td>~14,000 kg</td>\n      <td>LEO</td>\n      <td>SpaceX Capella Space and Tyvak</td>\n      <td>Success\\n</td>\n      <td>F9 B5B1058.8</td>\n      <td>Success</td>\n      <td>15 May 2021</td>\n      <td>22:56</td>\n    </tr>\n    <tr>\n      <th>118</th>\n      <td>119</td>\n      <td>CCSFS</td>\n      <td>Starlink</td>\n      <td>15,600 kg</td>\n      <td>LEO</td>\n      <td>SpaceX</td>\n      <td>Success\\n</td>\n      <td>F9 B5B1063.2</td>\n      <td>Success</td>\n      <td>26 May 2021</td>\n      <td>18:59</td>\n    </tr>\n    <tr>\n      <th>119</th>\n      <td>120</td>\n      <td>KSC</td>\n      <td>SpaceX CRS-22</td>\n      <td>3,328 kg</td>\n      <td>LEO</td>\n      <td>NASA (CRS)</td>\n      <td>Success\\n</td>\n      <td>F9 B5B1067.1</td>\n      <td>Success</td>\n      <td>3 June 2021</td>\n      <td>17:29</td>\n    </tr>\n    <tr>\n      <th>120</th>\n      <td>121</td>\n      <td>CCSFS</td>\n      <td>SXM-8</td>\n      <td>7,000 kg</td>\n      <td>GTO</td>\n      <td>Sirius XM</td>\n      <td>Success\\n</td>\n      <td>F9 B5</td>\n      <td>Success</td>\n      <td>6 June 2021</td>\n      <td>04:26</td>\n    </tr>\n  </tbody>\n</table>\n<p>121 rows \u00d7 11 columns</p>\n</div>",
                        "text/plain": "    Flight No. Launch site                               Payload Payload mass  \\\n0            1       CCAFS  Dragon Spacecraft Qualification Unit            0   \n1            2       CCAFS                                Dragon            0   \n2            3       CCAFS                                Dragon       525 kg   \n3            4       CCAFS                          SpaceX CRS-1     4,700 kg   \n4            5       CCAFS                          SpaceX CRS-2     4,877 kg   \n..         ...         ...                                   ...          ...   \n116        117       CCSFS                              Starlink    15,600 kg   \n117        118         KSC                              Starlink   ~14,000 kg   \n118        119       CCSFS                              Starlink    15,600 kg   \n119        120         KSC                         SpaceX CRS-22     3,328 kg   \n120        121       CCSFS                                 SXM-8     7,000 kg   \n\n    Orbit                        Customer Launch outcome Version Booster  \\\n0     LEO                          SpaceX      Success\\n  F9 v1.0B0003.1   \n1     LEO                NASA (COTS)\\nNRO        Success  F9 v1.0B0004.1   \n2     LEO                     NASA (COTS)        Success  F9 v1.0B0005.1   \n3     LEO                      NASA (CRS)      Success\\n  F9 v1.0B0006.1   \n4     LEO                      NASA (CRS)      Success\\n  F9 v1.0B0007.1   \n..    ...                             ...            ...             ...   \n116   LEO                          SpaceX      Success\\n   F9 B5B1051.10   \n117   LEO  SpaceX Capella Space and Tyvak      Success\\n    F9 B5B1058.8   \n118   LEO                          SpaceX      Success\\n    F9 B5B1063.2   \n119   LEO                      NASA (CRS)      Success\\n    F9 B5B1067.1   \n120   GTO                       Sirius XM      Success\\n           F9 B5   \n\n    Booster landing             Date   Time  \n0           Failure      4 June 2010  18:45  \n1           Failure  8 December 2010  15:43  \n2      No attempt\\n      22 May 2012  07:44  \n3        No attempt   8 October 2012  00:35  \n4      No attempt\\n     1 March 2013  15:10  \n..              ...              ...    ...  \n116         Success       9 May 2021  06:42  \n117         Success      15 May 2021  22:56  \n118         Success      26 May 2021  18:59  \n119         Success      3 June 2021  17:29  \n120         Success      6 June 2021  04:26  \n\n[121 rows x 11 columns]"
                    },
                    "execution_count": 45,
                    "metadata": {},
                    "output_type": "execute_result"
                }
            ],
            "source": "df=pd.DataFrame(launch_dict)\ndf"
        },
        {
            "cell_type": "markdown",
            "metadata": {},
            "source": "We can now export it to a <b>CSV</b> for the next section, but to make the answers consistent and in case you have difficulties finishing this lab.\n\nFollowing labs will be using a provided dataset to make each lab independent.\n"
        },
        {
            "cell_type": "markdown",
            "metadata": {},
            "source": "<code>df.to_csv('spacex_web_scraped.csv', index=False)</code>\n"
        },
        {
            "cell_type": "markdown",
            "metadata": {},
            "source": "## Authors\n"
        },
        {
            "cell_type": "markdown",
            "metadata": {},
            "source": "<a href=\"https://www.linkedin.com/in/yan-luo-96288783/?utm_medium=Exinfluencer&utm_source=Exinfluencer&utm_content=000026UJ&utm_term=10006555&utm_id=NA-SkillsNetwork-Channel-SkillsNetworkCoursesIBMDS0321ENSkillsNetwork26802033-2021-01-01\">Yan Luo</a>\n"
        },
        {
            "cell_type": "markdown",
            "metadata": {},
            "source": "<a href=\"https://www.linkedin.com/in/nayefaboutayoun/?utm_medium=Exinfluencer&utm_source=Exinfluencer&utm_content=000026UJ&utm_term=10006555&utm_id=NA-SkillsNetwork-Channel-SkillsNetworkCoursesIBMDS0321ENSkillsNetwork26802033-2021-01-01\">Nayef Abou Tayoun</a>\n"
        },
        {
            "cell_type": "markdown",
            "metadata": {},
            "source": "## Change Log\n"
        },
        {
            "cell_type": "markdown",
            "metadata": {},
            "source": "| Date (YYYY-MM-DD) | Version | Changed By | Change Description          |\n| ----------------- | ------- | ---------- | --------------------------- |\n| 2021-06-09        | 1.0     | Yan Luo    | Tasks updates               |\n| 2020-11-10        | 1.0     | Nayef      | Created the initial version |\n"
        },
        {
            "cell_type": "markdown",
            "metadata": {},
            "source": "Copyright \u00a9 2021 IBM Corporation. All rights reserved.\n"
        }
    ],
    "metadata": {
        "kernelspec": {
            "display_name": "Python 3.7",
            "language": "python",
            "name": "python3"
        },
        "language_info": {
            "codemirror_mode": {
                "name": "ipython",
                "version": 3
            },
            "file_extension": ".py",
            "mimetype": "text/x-python",
            "name": "python",
            "nbconvert_exporter": "python",
            "pygments_lexer": "ipython3",
            "version": "3.7.11"
        }
    },
    "nbformat": 4,
    "nbformat_minor": 4
}